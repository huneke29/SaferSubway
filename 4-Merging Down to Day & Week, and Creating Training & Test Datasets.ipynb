{
 "cells": [
  {
   "cell_type": "code",
   "execution_count": 39,
   "metadata": {},
   "outputs": [],
   "source": [
    "import pandas as pd\n",
    "import numpy as np\n",
    "import datetime\n",
    "\n",
    "main_path = '/Users/PC/Desktop/Insight/MTASafety'"
   ]
  },
  {
   "cell_type": "code",
   "execution_count": 41,
   "metadata": {},
   "outputs": [],
   "source": [
    "ModelData=pd.read_csv(main_path + '/MergedDataUse.csv', low_memory=False)"
   ]
  },
  {
   "cell_type": "code",
   "execution_count": 42,
   "metadata": {},
   "outputs": [
    {
     "data": {
      "text/plain": [
       "(2310745, 95)"
      ]
     },
     "execution_count": 42,
     "metadata": {},
     "output_type": "execute_result"
    }
   ],
   "source": [
    "ModelData.shape"
   ]
  },
  {
   "cell_type": "code",
   "execution_count": 43,
   "metadata": {},
   "outputs": [],
   "source": [
    "ModelData['datetime_clean_x'] = pd.to_datetime(ModelData['datetime_clean_x'])"
   ]
  },
  {
   "cell_type": "code",
   "execution_count": 44,
   "metadata": {},
   "outputs": [],
   "source": [
    "#Sorting by Date\n",
    "ModelData=ModelData.sort_values(by=['datetime_clean_x'])"
   ]
  },
  {
   "cell_type": "code",
   "execution_count": 45,
   "metadata": {},
   "outputs": [],
   "source": [
    "#Creating the Day/Time Identity Variable that I'll Group By\n",
    "ModelData['Ident2']= ModelData['Station2'].astype(str) + ModelData['wkdaynbr_x'].astype(str) + ModelData['timegroup_x'].astype(str)"
   ]
  },
  {
   "cell_type": "code",
   "execution_count": 46,
   "metadata": {},
   "outputs": [],
   "source": [
    "#Making strings out of the offenses\n",
    "ModelData['OFNS_DESC_x']=ModelData['OFNS_DESC_x'].astype(str)\n",
    "ModelData['LAW_CAT_CD_x']=ModelData['LAW_CAT_CD_x'].astype(str)"
   ]
  },
  {
   "cell_type": "code",
   "execution_count": 47,
   "metadata": {},
   "outputs": [],
   "source": [
    "#Creating Training Data (2017-2018)\n",
    "Training = ModelData[ModelData['datetime_clean_x'] < '2019-01-01']"
   ]
  },
  {
   "cell_type": "code",
   "execution_count": 48,
   "metadata": {},
   "outputs": [],
   "source": [
    "#Merging Down Crimes Entries and Exits\n",
    "ident_sumsTrain=Training.groupby('Ident2')['Complaint_x','entries_diff_x','exit_diff_x'].sum().reset_index()\n",
    "everything_elseTrain = Training.groupby('Ident2').first()"
   ]
  },
  {
   "cell_type": "code",
   "execution_count": 49,
   "metadata": {},
   "outputs": [],
   "source": [
    "#Adding the Crimes Description and Offense Type to Training Data for Additional Use\n",
    "traincrimes = Training.groupby(['Ident2'])['OFNS_DESC_x'].apply(', '.join).reset_index()\n",
    "trainofftype = Training.groupby(['Ident2'])['LAW_CAT_CD_x'].apply(', '.join).reset_index()\n",
    "TrainingMerge = pd.merge(ident_sumsTrain, traincrimes, on=['Ident2'], how='left')\n",
    "TrainingMerge2 = pd.merge(TrainingMerge, trainofftype, on=['Ident2'], how='left')\n",
    "Training2 = pd.merge(TrainingMerge2, everything_elseTrain, on=['Ident2'], how='left')"
   ]
  },
  {
   "cell_type": "code",
   "execution_count": 50,
   "metadata": {},
   "outputs": [],
   "source": [
    "#Combining Entries and Exits\n",
    "Training2[\"CombinedEntriesExits\"] = (Training2[\"entries_diff_x_x\"] + Training2[\"exit_diff_x_x\"])"
   ]
  },
  {
   "cell_type": "code",
   "execution_count": 51,
   "metadata": {},
   "outputs": [],
   "source": [
    "#Creating Rate of Crime\n",
    "Training2[\"RateofCrime\"] = Training2[\"Complaint_x_x\"]/Training2[\"CombinedEntriesExits\"]"
   ]
  },
  {
   "cell_type": "code",
   "execution_count": 52,
   "metadata": {},
   "outputs": [],
   "source": [
    "#Setting all Infinites to 0\n",
    "Training2.loc[~np.isfinite(Training2['RateofCrime']), 'RateofCrime'] = 0"
   ]
  },
  {
   "cell_type": "code",
   "execution_count": 53,
   "metadata": {},
   "outputs": [],
   "source": [
    "#Creating a Metric for Just Entries As Well\n",
    "Training2[\"RateofCrimeJustEntry\"] = Training2[\"Complaint_x_x\"]/Training2[\"entries_diff_x_x\"]\n",
    "Training2.loc[~np.isfinite(Training2['RateofCrimeJustEntry']), 'RateofCrimeJustEntry'] = 0"
   ]
  },
  {
   "cell_type": "code",
   "execution_count": 54,
   "metadata": {},
   "outputs": [],
   "source": [
    "#Creating Test Data(2019, First 3 Months)\n",
    "Testing = ModelData[ModelData['datetime_clean_x'] > '2018-12-31']"
   ]
  },
  {
   "cell_type": "code",
   "execution_count": 55,
   "metadata": {},
   "outputs": [],
   "source": [
    "#Creating Smaller Test Set Grouped by Day, Hour\n",
    "ident_sumsTesting=Testing.groupby('Ident2')['Complaint_x','entries_diff_x','exit_diff_x'].sum().reset_index()"
   ]
  },
  {
   "cell_type": "code",
   "execution_count": 56,
   "metadata": {},
   "outputs": [],
   "source": [
    "#Adding the Crime Descriptions and Types to the Testing Set\n",
    "testcrimes = Testing.groupby(['Ident2'])['OFNS_DESC_x'].apply(', '.join).reset_index()\n",
    "testofftype = Testing.groupby(['Ident2'])['LAW_CAT_CD_x'].apply(', '.join).reset_index()\n",
    "everything_elseTesting = Testing.groupby('Ident2').first()\n",
    "TestingMerge = pd.merge(ident_sumsTesting, testcrimes, on=['Ident2'], how='left')\n",
    "TestingMerge2 = pd.merge(TestingMerge, testofftype, on=['Ident2'], how='left')\n",
    "Testing2 = pd.merge(TestingMerge2, everything_elseTesting, on=['Ident2'], how='left')\n",
    "Testing2[\"CombinedEntriesExits\"] = (Testing2[\"entries_diff_x_x\"] + Testing2[\"exit_diff_x_x\"])\n",
    "Testing2[\"RateofCrime\"] = Testing2[\"Complaint_x_x\"]/Testing2[\"CombinedEntriesExits\"]\n",
    "Testing2.loc[~np.isfinite(Testing2['RateofCrime']), 'RateofCrime'] = 0"
   ]
  },
  {
   "cell_type": "code",
   "execution_count": 57,
   "metadata": {},
   "outputs": [],
   "source": [
    "#Creating a Separate Just Entry Rate of Crime for Testing Set\n",
    "Testing2[\"RateofCrimeJustEntry\"] = Testing2[\"Complaint_x_x\"]/Testing2[\"entries_diff_x_x\"]\n",
    "Testing2.loc[~np.isfinite(Testing2['RateofCrimeJustEntry']), 'RateofCrimeJustEntry'] = 0"
   ]
  },
  {
   "cell_type": "code",
   "execution_count": 58,
   "metadata": {},
   "outputs": [
    {
     "data": {
      "text/plain": [
       "(20118, 104)"
      ]
     },
     "execution_count": 58,
     "metadata": {},
     "output_type": "execute_result"
    }
   ],
   "source": [
    "Training2.shape"
   ]
  },
  {
   "cell_type": "code",
   "execution_count": 59,
   "metadata": {},
   "outputs": [
    {
     "data": {
      "text/plain": [
       "(20118, 104)"
      ]
     },
     "execution_count": 59,
     "metadata": {},
     "output_type": "execute_result"
    }
   ],
   "source": [
    "Testing2.shape"
   ]
  },
  {
   "cell_type": "code",
   "execution_count": null,
   "metadata": {},
   "outputs": [],
   "source": [
    "#Saving the Datasets\n",
    "Training2.to_csv(main_path + '/Training6_20.csv')\n",
    "Testing2.to_csv(main_path + '/Testing6_20.csv')"
   ]
  }
 ],
 "metadata": {
  "kernelspec": {
   "display_name": "virtualMH",
   "language": "python",
   "name": "virtualmh"
  },
  "language_info": {
   "codemirror_mode": {
    "name": "ipython",
    "version": 3
   },
   "file_extension": ".py",
   "mimetype": "text/x-python",
   "name": "python",
   "nbconvert_exporter": "python",
   "pygments_lexer": "ipython3",
   "version": "3.7.3"
  }
 },
 "nbformat": 4,
 "nbformat_minor": 2
}
