{
 "cells": [
  {
   "cell_type": "code",
   "execution_count": 1,
   "metadata": {},
   "outputs": [
    {
     "name": "stdout",
     "output_type": "stream",
     "text": [
      "Python Version: 3.7.3 (default, Mar 27 2019, 17:13:21) [MSC v.1915 64 bit (AMD64)]\n",
      "Pandas Version: 0.24.2\n",
      "Numpy Version: 1.16.2\n",
      "Seaborn Version: 0.9.0\n"
     ]
    }
   ],
   "source": [
    "import pandas as pd\n",
    "from datetime import datetime, timedelta, time\n",
    "import numpy as np\n",
    "from collections import defaultdict\n",
    "import seaborn as sns\n",
    "import sys\n",
    "\n",
    "\n",
    "print(\"Python Version:\", sys.version)\n",
    "print(\"Pandas Version:\", pd.__version__)\n",
    "print(\"Numpy Version:\", np.__version__)\n",
    "print(\"Seaborn Version:\", sns.__version__)\n",
    "\n",
    "main_path = '/Users/PC/Desktop/Insight/MTASafety'"
   ]
  },
  {
   "cell_type": "code",
   "execution_count": 5,
   "metadata": {},
   "outputs": [],
   "source": [
    "raw = pd.read_csv(main_path + '/RiderData/Turnstile.csv', low_memory=False)"
   ]
  },
  {
   "cell_type": "code",
   "execution_count": 6,
   "metadata": {},
   "outputs": [],
   "source": [
    "# Renaming the columns\n",
    "df = raw.rename(columns=lambda x: x.strip().lower())\n",
    "\n",
    "# Concatenating date and time and convert to datetime object\n",
    "df['datetime'] = df['date'] + ' ' + df['time']\n",
    "df['datetime_clean'] = [datetime.strptime(x, '%m/%d/%Y %H:%M:%S') for x in df['datetime']]"
   ]
  },
  {
   "cell_type": "code",
   "execution_count": 7,
   "metadata": {},
   "outputs": [],
   "source": [
    "# Adding some additional date-part columns\n",
    "df['year'] = [x.year for x in df['datetime_clean']]\n",
    "df['weekday'] = df[['datetime_clean']].apply(lambda x: datetime.strftime(x['datetime_clean'], '%A'), axis=1)"
   ]
  },
  {
   "cell_type": "code",
   "execution_count": 12,
   "metadata": {},
   "outputs": [],
   "source": [
    "# Creating group ID for distinct turnstiles\n",
    "df['group'] = df['c.a'].astype(str) + \\\n",
    "                df['unit'].astype(str) + \\\n",
    "                df['scp'].astype(str) + \\\n",
    "                df['station'].astype(str)  + \\\n",
    "                df['line.name'].astype(str) + \\\n",
    "                df['division'].astype(str) + \\\n",
    "                df['year'].astype(str)\n",
    "                \n",
    "# Mapping 'group' string to integer id     \n",
    "groups = set(df['group'])\n",
    "\n",
    "\n",
    "def groups_dict(groups):\n",
    "    group_dict = defaultdict(int)\n",
    "    for i in enumerate(list(groups)):\n",
    "        group_dict[i[1]]= i[0]\n",
    "\n",
    "    return group_dict\n",
    "\n",
    "group_id_dict = groups_dict(groups)\n",
    "\n",
    "df['group_id'] = [group_id_dict[x] for x in df['group']]"
   ]
  },
  {
   "cell_type": "code",
   "execution_count": 13,
   "metadata": {},
   "outputs": [
    {
     "data": {
      "text/html": [
       "<div>\n",
       "<style scoped>\n",
       "    .dataframe tbody tr th:only-of-type {\n",
       "        vertical-align: middle;\n",
       "    }\n",
       "\n",
       "    .dataframe tbody tr th {\n",
       "        vertical-align: top;\n",
       "    }\n",
       "\n",
       "    .dataframe thead th {\n",
       "        text-align: right;\n",
       "    }\n",
       "</style>\n",
       "<table border=\"1\" class=\"dataframe\">\n",
       "  <thead>\n",
       "    <tr style=\"text-align: right;\">\n",
       "      <th></th>\n",
       "      <th>unnamed: 0</th>\n",
       "      <th>c.a</th>\n",
       "      <th>unit</th>\n",
       "      <th>scp</th>\n",
       "      <th>station</th>\n",
       "      <th>line.name</th>\n",
       "      <th>division</th>\n",
       "      <th>date</th>\n",
       "      <th>time</th>\n",
       "      <th>description</th>\n",
       "      <th>entries</th>\n",
       "      <th>exits</th>\n",
       "      <th>datetime</th>\n",
       "      <th>datetime_clean</th>\n",
       "      <th>year</th>\n",
       "      <th>weekday</th>\n",
       "      <th>group</th>\n",
       "      <th>group_id</th>\n",
       "    </tr>\n",
       "  </thead>\n",
       "  <tbody>\n",
       "    <tr>\n",
       "      <th>0</th>\n",
       "      <td>1</td>\n",
       "      <td>A002</td>\n",
       "      <td>R051</td>\n",
       "      <td>02-05-00</td>\n",
       "      <td>59 ST</td>\n",
       "      <td>NQR456W</td>\n",
       "      <td>BMT</td>\n",
       "      <td>06/07/2019</td>\n",
       "      <td>00:00:00</td>\n",
       "      <td>REGULAR</td>\n",
       "      <td>130</td>\n",
       "      <td>0</td>\n",
       "      <td>06/07/2019 00:00:00</td>\n",
       "      <td>2019-06-07</td>\n",
       "      <td>2019</td>\n",
       "      <td>Friday</td>\n",
       "      <td>A002R05102-05-0059 STNQR456WBMT2019</td>\n",
       "      <td>2948</td>\n",
       "    </tr>\n",
       "    <tr>\n",
       "      <th>1</th>\n",
       "      <td>2</td>\n",
       "      <td>A002</td>\n",
       "      <td>R051</td>\n",
       "      <td>02-03-01</td>\n",
       "      <td>59 ST</td>\n",
       "      <td>NQR456W</td>\n",
       "      <td>BMT</td>\n",
       "      <td>06/07/2019</td>\n",
       "      <td>00:00:00</td>\n",
       "      <td>REGULAR</td>\n",
       "      <td>1130231</td>\n",
       "      <td>1743202</td>\n",
       "      <td>06/07/2019 00:00:00</td>\n",
       "      <td>2019-06-07</td>\n",
       "      <td>2019</td>\n",
       "      <td>Friday</td>\n",
       "      <td>A002R05102-03-0159 STNQR456WBMT2019</td>\n",
       "      <td>6793</td>\n",
       "    </tr>\n",
       "    <tr>\n",
       "      <th>2</th>\n",
       "      <td>3</td>\n",
       "      <td>A002</td>\n",
       "      <td>R051</td>\n",
       "      <td>02-03-03</td>\n",
       "      <td>59 ST</td>\n",
       "      <td>NQR456W</td>\n",
       "      <td>BMT</td>\n",
       "      <td>06/07/2019</td>\n",
       "      <td>00:00:00</td>\n",
       "      <td>REGULAR</td>\n",
       "      <td>5767050</td>\n",
       "      <td>6618923</td>\n",
       "      <td>06/07/2019 00:00:00</td>\n",
       "      <td>2019-06-07</td>\n",
       "      <td>2019</td>\n",
       "      <td>Friday</td>\n",
       "      <td>A002R05102-03-0359 STNQR456WBMT2019</td>\n",
       "      <td>17347</td>\n",
       "    </tr>\n",
       "    <tr>\n",
       "      <th>3</th>\n",
       "      <td>4</td>\n",
       "      <td>A002</td>\n",
       "      <td>R051</td>\n",
       "      <td>02-00-01</td>\n",
       "      <td>59 ST</td>\n",
       "      <td>NQR456W</td>\n",
       "      <td>BMT</td>\n",
       "      <td>06/07/2019</td>\n",
       "      <td>00:00:00</td>\n",
       "      <td>REGULAR</td>\n",
       "      <td>6311419</td>\n",
       "      <td>1415507</td>\n",
       "      <td>06/07/2019 00:00:00</td>\n",
       "      <td>2019-06-07</td>\n",
       "      <td>2019</td>\n",
       "      <td>Friday</td>\n",
       "      <td>A002R05102-00-0159 STNQR456WBMT2019</td>\n",
       "      <td>7023</td>\n",
       "    </tr>\n",
       "    <tr>\n",
       "      <th>4</th>\n",
       "      <td>5</td>\n",
       "      <td>A002</td>\n",
       "      <td>R051</td>\n",
       "      <td>02-03-04</td>\n",
       "      <td>59 ST</td>\n",
       "      <td>NQR456W</td>\n",
       "      <td>BMT</td>\n",
       "      <td>06/07/2019</td>\n",
       "      <td>00:00:00</td>\n",
       "      <td>REGULAR</td>\n",
       "      <td>7146869</td>\n",
       "      <td>3705404</td>\n",
       "      <td>06/07/2019 00:00:00</td>\n",
       "      <td>2019-06-07</td>\n",
       "      <td>2019</td>\n",
       "      <td>Friday</td>\n",
       "      <td>A002R05102-03-0459 STNQR456WBMT2019</td>\n",
       "      <td>8026</td>\n",
       "    </tr>\n",
       "  </tbody>\n",
       "</table>\n",
       "</div>"
      ],
      "text/plain": [
       "   unnamed: 0   c.a  unit       scp station line.name division        date  \\\n",
       "0           1  A002  R051  02-05-00   59 ST   NQR456W      BMT  06/07/2019   \n",
       "1           2  A002  R051  02-03-01   59 ST   NQR456W      BMT  06/07/2019   \n",
       "2           3  A002  R051  02-03-03   59 ST   NQR456W      BMT  06/07/2019   \n",
       "3           4  A002  R051  02-00-01   59 ST   NQR456W      BMT  06/07/2019   \n",
       "4           5  A002  R051  02-03-04   59 ST   NQR456W      BMT  06/07/2019   \n",
       "\n",
       "       time description  entries    exits             datetime datetime_clean  \\\n",
       "0  00:00:00     REGULAR      130        0  06/07/2019 00:00:00     2019-06-07   \n",
       "1  00:00:00     REGULAR  1130231  1743202  06/07/2019 00:00:00     2019-06-07   \n",
       "2  00:00:00     REGULAR  5767050  6618923  06/07/2019 00:00:00     2019-06-07   \n",
       "3  00:00:00     REGULAR  6311419  1415507  06/07/2019 00:00:00     2019-06-07   \n",
       "4  00:00:00     REGULAR  7146869  3705404  06/07/2019 00:00:00     2019-06-07   \n",
       "\n",
       "   year weekday                                group  group_id  \n",
       "0  2019  Friday  A002R05102-05-0059 STNQR456WBMT2019      2948  \n",
       "1  2019  Friday  A002R05102-03-0159 STNQR456WBMT2019      6793  \n",
       "2  2019  Friday  A002R05102-03-0359 STNQR456WBMT2019     17347  \n",
       "3  2019  Friday  A002R05102-00-0159 STNQR456WBMT2019      7023  \n",
       "4  2019  Friday  A002R05102-03-0459 STNQR456WBMT2019      8026  "
      ]
     },
     "execution_count": 13,
     "metadata": {},
     "output_type": "execute_result"
    }
   ],
   "source": [
    "df.head()"
   ]
  },
  {
   "cell_type": "code",
   "execution_count": 15,
   "metadata": {},
   "outputs": [],
   "source": [
    "# Creating station ID for distinct stations\n",
    "df['station_line'] = df['station'].astype(str) + \\\n",
    "                df['line.name'].astype(str)"
   ]
  },
  {
   "cell_type": "code",
   "execution_count": 16,
   "metadata": {},
   "outputs": [],
   "source": [
    "# Sorting values by group id and date to find diff in turnstile counts from prev row\n",
    "df.sort_values(['group_id','datetime_clean'], inplace=True)\n",
    "df.reset_index(drop=True)\n",
    "\n",
    "def find_diff_prev_row(df_series_col):\n",
    "    col_array = np.array(df_series_col)\n",
    "    col_array_shifted = shift(col_array, 1, cval=np.NaN)\n",
    "    col_diff = abs(col_array - col_array_shifted)\n",
    "\n",
    "    return col_diff\n",
    "\n",
    "\n",
    "df['entries_diff'] = find_diff_prev_row(df['entries'])\n",
    "df['exit_diff'] = find_diff_prev_row(df['exits'])"
   ]
  },
  {
   "cell_type": "code",
   "execution_count": 20,
   "metadata": {},
   "outputs": [],
   "source": [
    "# Identifying first rows for each group partition to use as mask when setting invalid values to nan\n",
    "def find_first_rows_groups(df_series_col):\n",
    "    col_array = np.array(df_series_col)\n",
    "    col_array_shifted = shift(col_array, 1, cval=np.NaN)\n",
    "    first_row_mask = col_array != col_array_shifted\n",
    "\n",
    "    return first_row_mask\n",
    "\n",
    "\n",
    "df['first_row_group'] = find_first_rows_groups(df['group_id'])\n",
    "\n",
    "# Making entries_diff and exit_diff nan when first row in group or negative value\n",
    "df.loc[df['first_row_group'], 'entries_diff'] = None\n",
    "df.loc[df['entries_diff'] < 0, 'entries_diff'] = None\n",
    "\n",
    "df.loc[df['first_row_group'], 'exit_diff'] = None\n",
    "df.loc[df['exit_diff'] < 0, 'exit_diff'] = None"
   ]
  },
  {
   "cell_type": "code",
   "execution_count": 22,
   "metadata": {},
   "outputs": [],
   "source": [
    "df.to_csv(main_path + '/RiderData/Turnstile3.csv')"
   ]
  },
  {
   "cell_type": "code",
   "execution_count": 5,
   "metadata": {},
   "outputs": [],
   "source": [
    "df=pd.read_csv(main_path + '/RiderData/Turnstile3.csv', low_memory=False)"
   ]
  },
  {
   "cell_type": "code",
   "execution_count": 6,
   "metadata": {},
   "outputs": [],
   "source": [
    "#Creating a function to identify outliers\n",
    "def find_outliers(df_series, multiple_IQR):\n",
    "    \"\"\"\n",
    "    For a series of numerical values, remove the zeros and identify the upper outliers \n",
    "    to return a mask for all outliers in series\n",
    "    \"\"\"\n",
    "    non_zeros = df_series.replace(0, None)\n",
    "    \n",
    "    adjusted_IQR = (non_zeros.quantile(.75) - non_zeros.quantile(.25)) * multiple_IQR\n",
    "    outlier_lim = non_zeros.quantile(.75) + adjusted_IQR\n",
    "    print(outlier_lim)\n",
    "    \n",
    "    outliers = [True if x > outlier_lim else False for x in df_series]\n",
    "    \n",
    "    outlier_count = sum(outliers)\n",
    "    all_data_count = len(df_series)\n",
    "    print('{} outliers identified: {} of all data'.format(outlier_count, round(outlier_count/all_data_count,6)))\n",
    "    \n",
    "    return outliers"
   ]
  },
  {
   "cell_type": "code",
   "execution_count": 7,
   "metadata": {},
   "outputs": [
    {
     "name": "stdout",
     "output_type": "stream",
     "text": [
      "Entries Outliers\n",
      "1454.0\n",
      "150135 outliers identified: 0.006396 of all data\n",
      "\n",
      " Exit Outliers\n",
      "974.0\n",
      "362310 outliers identified: 0.015436 of all data\n"
     ]
    }
   ],
   "source": [
    "#Locating Outliers\n",
    "print('Entries Outliers')\n",
    "df['entries_outlier'] = find_outliers(df['entries_diff'], 5)\n",
    "\n",
    "print('\\n Exit Outliers')\n",
    "df['exit_outlier'] = find_outliers(df['exit_diff'], 5)"
   ]
  },
  {
   "cell_type": "code",
   "execution_count": 8,
   "metadata": {},
   "outputs": [
    {
     "name": "stdout",
     "output_type": "stream",
     "text": [
      "All Data Len: 23472102\n",
      "Excluding Outliers Len: 23321967\n",
      "Keeping 0.993604\n"
     ]
    }
   ],
   "source": [
    "#Removing Outliers\n",
    "print('All Data Len:', len(df))\n",
    "\n",
    "clean_df = df.loc[(~df['entries_outlier'])].copy()\n",
    "print('Excluding Outliers Len:', len(clean_df))\n",
    "\n",
    "print('Keeping', round(len(clean_df)/len(df), 6))"
   ]
  },
  {
   "cell_type": "code",
   "execution_count": 9,
   "metadata": {},
   "outputs": [
    {
     "name": "stdout",
     "output_type": "stream",
     "text": [
      "Null entry diffs 19357\n",
      "Null exit diffs 19357\n",
      "Clean Data len: 23321967\n"
     ]
    }
   ],
   "source": [
    "print('Null entry diffs', clean_df.entries_diff.isnull().sum())\n",
    "print('Null exit diffs', clean_df.exit_diff.isnull().sum())\n",
    "print('Clean Data len:', len(clean_df))"
   ]
  },
  {
   "cell_type": "code",
   "execution_count": 10,
   "metadata": {},
   "outputs": [
    {
     "name": "stdout",
     "output_type": "stream",
     "text": [
      "Null entry diffs 0\n",
      "Null exit diffs 0\n",
      "Clean Data len: 23302610\n"
     ]
    }
   ],
   "source": [
    "#Dropping NAs\n",
    "clean_df.dropna(subset = ['entries_diff', 'exit_diff'], how='any', inplace=True)\n",
    "\n",
    "print('Null entry diffs', clean_df.entries_diff.isnull().sum())\n",
    "print('Null exit diffs', clean_df.exit_diff.isnull().sum())\n",
    "print('Clean Data len:', len(clean_df))"
   ]
  },
  {
   "cell_type": "code",
   "execution_count": 14,
   "metadata": {},
   "outputs": [
    {
     "name": "stdout",
     "output_type": "stream",
     "text": [
      "I'm throwing away 169492 data points - about 0.0072 of the total\n"
     ]
    }
   ],
   "source": [
    "thrown_away = len(df) - len(clean_df)\n",
    "print(\"I'm throwing away {} data points - about {} of the total\".format(thrown_away, round(thrown_away/len(df), 4)))"
   ]
  },
  {
   "cell_type": "code",
   "execution_count": 28,
   "metadata": {},
   "outputs": [],
   "source": [
    "clean_df['DateTime2'] = pd.to_datetime(clean_df['datetime_clean'])"
   ]
  },
  {
   "cell_type": "code",
   "execution_count": 29,
   "metadata": {},
   "outputs": [],
   "source": [
    "clean_df['week'] = [x.isocalendar()[1] for x in clean_df['DateTime2']]\n",
    "clean_df['hour'] = [x.hour for x in clean_df['DateTime2']]"
   ]
  },
  {
   "cell_type": "code",
   "execution_count": 30,
   "metadata": {},
   "outputs": [],
   "source": [
    "#Creating hourgroups and weekday numbers\n",
    "def timebin(hour):\n",
    "    if hour ==0:\n",
    "        return 6\n",
    "    if hour <= 4:\n",
    "        return 1\n",
    "    if hour <=8:\n",
    "        return 2\n",
    "    if hour <=12:\n",
    "        return 3\n",
    "    if hour <= 16:\n",
    "        return 4\n",
    "    if hour <= 20:\n",
    "        return 5\n",
    "    if hour <= 24:\n",
    "        return 6\n",
    "    \n",
    "hourgroups = {6:'8pm - 12am', \n",
    "              1: '12am - 4am', \n",
    "              2:'4am - 8am', \n",
    "              3:'8am - 12pm', \n",
    "              4:'12pm - 4pm', \n",
    "              5:'4pm - 8pm'}\n",
    "\n",
    "wkdaynbr = {'Friday': 5,\n",
    " 'Monday': 1,\n",
    " 'Saturday': 6,\n",
    " 'Sunday': 0,\n",
    " 'Thursday': 4,\n",
    " 'Tuesday': 2,\n",
    " 'Wednesday': 3}"
   ]
  },
  {
   "cell_type": "code",
   "execution_count": 31,
   "metadata": {},
   "outputs": [],
   "source": [
    "clean_df['timegroup'] = clean_df['hour'].apply(timebin)\n",
    "clean_df['timegroupstr'] = clean_df['timegroup'].map(hourgroups)\n",
    "clean_df['wkdaynbr'] = clean_df['weekday'].map(wkdaynbr)"
   ]
  },
  {
   "cell_type": "code",
   "execution_count": 34,
   "metadata": {},
   "outputs": [],
   "source": [
    "clean_df.to_csv(main_path + '/RiderData/Turnstile6.csv')"
   ]
  },
  {
   "cell_type": "code",
   "execution_count": 32,
   "metadata": {},
   "outputs": [],
   "source": [
    "# Find daily average entries per station\n",
    "stations_day = clean_df.groupby(['station_line', 'date']).sum()\n",
    "stations_day.reset_index(inplace=True)\n",
    "\n",
    "daily_avg = stations_day.groupby('station_line')['entries_diff'].mean()\n",
    "daily_avg.sort_values(ascending=False, inplace=True)"
   ]
  },
  {
   "cell_type": "code",
   "execution_count": 33,
   "metadata": {},
   "outputs": [
    {
     "data": {
      "image/png": "[encoded data removed]",
      "text/plain": [
       "<Figure size 432x288 with 1 Axes>"
      ]
     },
     "metadata": {
      "needs_background": "light"
     },
     "output_type": "display_data"
    }
   ],
   "source": [
    "sns.distplot(daily_avg, hist=True, kde=True);"
   ]
  },
  {
   "cell_type": "code",
   "execution_count": 38,
   "metadata": {},
   "outputs": [
    {
     "data": {
      "text/plain": [
       "station_line\n",
       "GRD CNTRL-42 ST4567S           94761.816850\n",
       "34 ST-HERALD SQBDFMNQRW        86919.732601\n",
       "42 ST-PORT AUTHACENQRS1237W    68946.161172\n",
       "34 ST-PENN STAACE              65571.279609\n",
       "TIMES SQ-42 ST1237ACENQRSW     52813.310134\n",
       "FULTON ST2345ACJZ              51032.507937\n",
       "14 ST-UNION SQLNQR456W         49097.866911\n",
       "FLUSHING-MAIN7                 48725.406593\n",
       "JKSN HT-ROOSVLTEFMR7           43398.568460\n",
       "59 ST COLUMBUSABCD1            40596.909646\n",
       "CANAL STJNQRZ6W                40096.532357\n",
       "PATH NEW WTC1                  38513.103268\n",
       "86 ST456                       37284.018315\n",
       "72 ST123                       34840.942613\n",
       "34 ST-PENN STA123ACE           34328.652015\n",
       "W 4 ST-WASH SQABCDEFM          33961.796093\n",
       "59 ST456NQRW                   32944.746032\n",
       "JAY ST-METROTECACF             32083.326007\n",
       "96 ST123                       32071.938950\n",
       "47-50 STS ROCKBDFM             31627.927961\n",
       "LEXINGTON AV/53EM6             29010.266178\n",
       "42 ST-BRYANT PKBDFM7           27376.240196\n",
       "57 ST-7 AVNQRW                 27246.722833\n",
       "14 ST-UNION SQ456LNQRW         26774.670330\n",
       "JAMAICA CENTEREJZ              26685.174603\n",
       "34 ST-PENN STA123              26150.007326\n",
       "BOROUGH HALL2345R              25709.634474\n",
       "33 ST6                         24961.485330\n",
       "125 STACBD                     24911.167687\n",
       "125 ST456                      24213.681319\n",
       "Name: entries_diff, dtype: float64"
      ]
     },
     "execution_count": 38,
     "metadata": {},
     "output_type": "execute_result"
    }
   ],
   "source": [
    "daily_avg.head(30)"
   ]
  }
 ],
 "metadata": {
  "kernelspec": {
   "display_name": "virtualMH",
   "language": "python",
   "name": "virtualmh"
  },
  "language_info": {
   "codemirror_mode": {
    "name": "ipython",
    "version": 3
   },
   "file_extension": ".py",
   "mimetype": "text/x-python",
   "name": "python",
   "nbconvert_exporter": "python",
   "pygments_lexer": "ipython3",
   "version": "3.7.3"
  }
 },
 "nbformat": 4,
 "nbformat_minor": 2
}
